{
 "cells": [
  {
   "cell_type": "markdown",
   "metadata": {},
   "source": [
    "# Практика\n",
    "*Выполнила Кирьянова Дина, вариант 13*"
   ]
  },
  {
   "cell_type": "markdown",
   "metadata": {},
   "source": [
    "### Задание 1"
   ]
  },
  {
   "cell_type": "code",
   "execution_count": 1,
   "metadata": {},
   "outputs": [],
   "source": [
    "import numpy as np\n",
    "import pandas as pd\n",
    "ε = np.math.pow(10, -12)"
   ]
  },
  {
   "cell_type": "markdown",
   "metadata": {},
   "source": [
    "#### Признак Лейбница"
   ]
  },
  {
   "cell_type": "code",
   "execution_count": 2,
   "metadata": {},
   "outputs": [],
   "source": [
    "def Σ(x, S):\n",
    "    n = 0\n",
    "    sum = 0\n",
    "    a = 1\n",
    "    term = np.array([])\n",
    "    while np.fabs(a) > ε:\n",
    "        a = np.divide(np.math.pow(-1, n) * np.math.pow(x, n), np.math.factorial(n))\n",
    "        term = np.append(term, a)\n",
    "        sum += a\n",
    "        n += 1\n",
    "    return(sum, n, term)"
   ]
  },
  {
   "cell_type": "markdown",
   "metadata": {},
   "source": [
    "#### По Кэхэну"
   ]
  },
  {
   "cell_type": "code",
   "execution_count": 3,
   "metadata": {},
   "outputs": [],
   "source": [
    "def KahanSum(n, term):\n",
    "    s = 0\n",
    "    c = 0\n",
    "    for i in range(n):\n",
    "        y = term[i] - c\n",
    "        t = s + y\n",
    "        c = (t - s) - y\n",
    "        s = t\n",
    "    return s"
   ]
  },
  {
   "cell_type": "markdown",
   "metadata": {},
   "source": [
    "#### Точка 1"
   ]
  },
  {
   "cell_type": "code",
   "execution_count": 4,
   "metadata": {},
   "outputs": [
    {
     "name": "stdout",
     "output_type": "stream",
     "text": [
      "x = 1, n = 16\n",
      "    S = 0.36787944117144233\n",
      "  sum = 0.3678794411713973,  δ = 4.50195436485501e-14\n",
      "order = 0.36787944117139704, δ = 4.529709940470639e-14\n",
      "Kahan = 0.3678794411713972,  δ = 4.5130565951012613e-14\n"
     ]
    }
   ],
   "source": [
    "x = 1\n",
    "S = 1 / np.e\n",
    "sum, n, term = Σ(x, S)\n",
    "kahan_sum = KahanSum(n, term)\n",
    "order_sum = np.sum(np.sort(term))\n",
    "print(f'x = {x}, n = {n}\\n    S = {S}')\n",
    "print(f'  sum = {sum},  δ = {S - sum}')\n",
    "print(f'order = {order_sum}, δ = {S - order_sum}')\n",
    "print(f'Kahan = {kahan_sum},  δ = {S - kahan_sum}')\n"
   ]
  },
  {
   "cell_type": "markdown",
   "metadata": {},
   "source": [
    "#### Точка 2"
   ]
  },
  {
   "cell_type": "code",
   "execution_count": 5,
   "metadata": {},
   "outputs": [
    {
     "name": "stdout",
     "output_type": "stream",
     "text": [
      "x = 10, n = 48\n",
      "    S = 4.539992976248488e-05\n",
      "  sum = 4.5399929366746555e-05, δ = 3.957383262775428e-13\n",
      "order = 4.539993096841499e-05,  δ = -1.20593011081584e-12\n",
      "Kahan = 4.539992936674656e-05,  δ = 3.9573831950127925e-13\n"
     ]
    }
   ],
   "source": [
    "x = 10\n",
    "S = 1 / np.math.pow(np.e, 10)\n",
    "sum, n, term = Σ(x, S)\n",
    "kahan_sum = KahanSum(n, term)\n",
    "order_sum = np.sum(np.sort(term))\n",
    "print(f'x = {x}, n = {n}\\n    S = {S}')\n",
    "print(f'  sum = {sum}, δ = {S - sum}')\n",
    "print(f'order = {order_sum},  δ = {S - order_sum}')\n",
    "print(f'Kahan = {kahan_sum},  δ = {S - kahan_sum}')"
   ]
  },
  {
   "cell_type": "markdown",
   "metadata": {},
   "source": [
    "### Задание 2"
   ]
  },
  {
   "cell_type": "code",
   "execution_count": 6,
   "metadata": {},
   "outputs": [],
   "source": [
    "ε = np.math.pow(10, -8)\n",
    "ω = np.linspace(0, 20, 101)"
   ]
  },
  {
   "cell_type": "code",
   "execution_count": 7,
   "metadata": {},
   "outputs": [],
   "source": [
    "def J2(x):\n",
    "    n = 0\n",
    "    a = 1\n",
    "    sum_1 = 0\n",
    "    temp = np.array([])\n",
    "    while np.abs(a) > ε and n <= 100:\n",
    "        a = np.divide(np.math.pow(-1, n) * np.math.pow(x, 2*(n+1)), np.math.factorial(n) * np.math.factorial(n+2) * np.math.pow(4, n+1))\n",
    "        temp = np.append(temp, a)\n",
    "        sum_1 += a\n",
    "        n += 1\n",
    "    sum_2 = np.sum(np.sort(temp))\n",
    "    return n, '{:.15f}'.format(sum_1), '{:.15f}'.format(sum_2)"
   ]
  },
  {
   "cell_type": "code",
   "execution_count": 12,
   "metadata": {},
   "outputs": [
    {
     "data": {
      "text/html": [
       "<div>\n",
       "<style scoped>\n",
       "    .dataframe tbody tr th:only-of-type {\n",
       "        vertical-align: middle;\n",
       "    }\n",
       "\n",
       "    .dataframe tbody tr th {\n",
       "        vertical-align: top;\n",
       "    }\n",
       "\n",
       "    .dataframe thead th {\n",
       "        text-align: right;\n",
       "    }\n",
       "</style>\n",
       "<table border=\"1\" class=\"dataframe\">\n",
       "  <thead>\n",
       "    <tr style=\"text-align: right;\">\n",
       "      <th></th>\n",
       "      <th>x_i</th>\n",
       "      <th>n</th>\n",
       "      <th>sum_1</th>\n",
       "      <th>sum_2</th>\n",
       "    </tr>\n",
       "  </thead>\n",
       "  <tbody>\n",
       "    <tr>\n",
       "      <th>0</th>\n",
       "      <td>0.0</td>\n",
       "      <td>1</td>\n",
       "      <td>0.000000000000000</td>\n",
       "      <td>0.000000000000000</td>\n",
       "    </tr>\n",
       "    <tr>\n",
       "      <th>1</th>\n",
       "      <td>0.2</td>\n",
       "      <td>4</td>\n",
       "      <td>0.004983354152778</td>\n",
       "      <td>0.004983354152778</td>\n",
       "    </tr>\n",
       "    <tr>\n",
       "      <th>2</th>\n",
       "      <td>0.4</td>\n",
       "      <td>4</td>\n",
       "      <td>0.019734663111111</td>\n",
       "      <td>0.019734663111111</td>\n",
       "    </tr>\n",
       "    <tr>\n",
       "      <th>3</th>\n",
       "      <td>0.6</td>\n",
       "      <td>5</td>\n",
       "      <td>0.043665096716719</td>\n",
       "      <td>0.043665096716719</td>\n",
       "    </tr>\n",
       "    <tr>\n",
       "      <th>4</th>\n",
       "      <td>0.8</td>\n",
       "      <td>5</td>\n",
       "      <td>0.075817762512593</td>\n",
       "      <td>0.075817762512593</td>\n",
       "    </tr>\n",
       "    <tr>\n",
       "      <th>...</th>\n",
       "      <td>...</td>\n",
       "      <td>...</td>\n",
       "      <td>...</td>\n",
       "      <td>...</td>\n",
       "    </tr>\n",
       "    <tr>\n",
       "      <th>96</th>\n",
       "      <td>19.2</td>\n",
       "      <td>33</td>\n",
       "      <td>-0.172265928759351</td>\n",
       "      <td>-0.172265929169953</td>\n",
       "    </tr>\n",
       "    <tr>\n",
       "      <th>97</th>\n",
       "      <td>19.4</td>\n",
       "      <td>33</td>\n",
       "      <td>-0.179867284976837</td>\n",
       "      <td>-0.179867286235094</td>\n",
       "    </tr>\n",
       "    <tr>\n",
       "      <th>98</th>\n",
       "      <td>19.6</td>\n",
       "      <td>33</td>\n",
       "      <td>-0.180332215968844</td>\n",
       "      <td>-0.180332215502858</td>\n",
       "    </tr>\n",
       "    <tr>\n",
       "      <th>99</th>\n",
       "      <td>19.8</td>\n",
       "      <td>33</td>\n",
       "      <td>-0.173713817071888</td>\n",
       "      <td>-0.173713818192482</td>\n",
       "    </tr>\n",
       "    <tr>\n",
       "      <th>100</th>\n",
       "      <td>20.0</td>\n",
       "      <td>34</td>\n",
       "      <td>-0.160341351208451</td>\n",
       "      <td>-0.160341349430382</td>\n",
       "    </tr>\n",
       "  </tbody>\n",
       "</table>\n",
       "<p>101 rows × 4 columns</p>\n",
       "</div>"
      ],
      "text/plain": [
       "      x_i   n               sum_1               sum_2\n",
       "0     0.0   1   0.000000000000000   0.000000000000000\n",
       "1     0.2   4   0.004983354152778   0.004983354152778\n",
       "2     0.4   4   0.019734663111111   0.019734663111111\n",
       "3     0.6   5   0.043665096716719   0.043665096716719\n",
       "4     0.8   5   0.075817762512593   0.075817762512593\n",
       "..    ...  ..                 ...                 ...\n",
       "96   19.2  33  -0.172265928759351  -0.172265929169953\n",
       "97   19.4  33  -0.179867284976837  -0.179867286235094\n",
       "98   19.6  33  -0.180332215968844  -0.180332215502858\n",
       "99   19.8  33  -0.173713817071888  -0.173713818192482\n",
       "100  20.0  34  -0.160341351208451  -0.160341349430382\n",
       "\n",
       "[101 rows x 4 columns]"
      ]
     },
     "execution_count": 12,
     "metadata": {},
     "output_type": "execute_result"
    }
   ],
   "source": [
    "df = pd.DataFrame(columns=['x_i', 'n', 'sum_1', 'sum_2'])\n",
    "for i in np.arange(101):\n",
    "    df.loc[i] = ['{:.1f}'.format(ω[i]), J2(ω[i])[0], J2(ω[i])[1], J2(ω[i])[2]]\n",
    "df.to_csv('data.csv')"
   ]
  },
  {
   "cell_type": "code",
   "execution_count": null,
   "metadata": {},
   "outputs": [],
   "source": []
  }
 ],
 "metadata": {
  "kernelspec": {
   "display_name": "Python 3.10.6 64-bit",
   "language": "python",
   "name": "python3"
  },
  "language_info": {
   "codemirror_mode": {
    "name": "ipython",
    "version": 3
   },
   "file_extension": ".py",
   "mimetype": "text/x-python",
   "name": "python",
   "nbconvert_exporter": "python",
   "pygments_lexer": "ipython3",
   "version": "3.10.6"
  },
  "orig_nbformat": 4,
  "vscode": {
   "interpreter": {
    "hash": "34858fb4650e4f08c5273abdf3b94d08eabaf2da6ad278d4e34e857f9bde1bd0"
   }
  }
 },
 "nbformat": 4,
 "nbformat_minor": 2
}
